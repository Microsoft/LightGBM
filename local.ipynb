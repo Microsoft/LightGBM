{
 "cells": [
  {
   "cell_type": "code",
   "execution_count": 1,
   "metadata": {},
   "outputs": [],
   "source": [
    "import dask.array as da\n",
    "\n",
    "from dask.distributed import Client, LocalCluster, wait\n",
    "\n",
    "from lightgbm.dask import DaskLGBMRegressor"
   ]
  },
  {
   "cell_type": "markdown",
   "metadata": {},
   "source": [
    "Create a cluster with 3 workers. Since this is a `LocalCluster`, those workers are just 3 local processes."
   ]
  },
  {
   "cell_type": "code",
   "execution_count": 2,
   "metadata": {},
   "outputs": [
    {
     "name": "stdout",
     "output_type": "stream",
     "text": [
      "View the dashboard: http://127.0.0.1:8787/status\n"
     ]
    }
   ],
   "source": [
    "n_workers = 3\n",
    "cluster = LocalCluster(\n",
    "    n_workers=n_workers\n",
    ")\n",
    "client = Client(cluster)\n",
    "client.wait_for_workers(n_workers)\n",
    "\n",
    "print(f\"View the dashboard: {cluster.dashboard_link}\")"
   ]
  },
  {
   "cell_type": "markdown",
   "metadata": {},
   "source": [
    "Click the link above to view a diagnostic dashboard while you run the training code below."
   ]
  },
  {
   "cell_type": "code",
   "execution_count": 3,
   "metadata": {},
   "outputs": [
    {
     "name": "stdout",
     "output_type": "stream",
     "text": [
      "attempt 0\n",
      "worker_address_to_port\n",
      "{'tcp://127.0.0.1:40729': 12400, 'tcp://127.0.0.1:34811': 12401, 'tcp://127.0.0.1:37625': 12402}\n",
      "attempt 1\n",
      "worker_address_to_port\n",
      "{'tcp://127.0.0.1:40521': 12400, 'tcp://127.0.0.1:40601': 12401, 'tcp://127.0.0.1:39867': 12402}\n",
      "attempt 2\n",
      "worker_address_to_port\n",
      "{'tcp://127.0.0.1:45167': 12400, 'tcp://127.0.0.1:37465': 12401, 'tcp://127.0.0.1:45003': 12402}\n",
      "attempt 3\n",
      "worker_address_to_port\n",
      "{'tcp://127.0.0.1:39383': 12400, 'tcp://127.0.0.1:40419': 12403, 'tcp://127.0.0.1:38683': 12404}\n",
      "attempt 4\n"
     ]
    },
    {
     "name": "stderr",
     "output_type": "stream",
     "text": [
      "distributed.nanny - WARNING - Restarting worker\n",
      "distributed.nanny - WARNING - Restarting worker\n"
     ]
    },
    {
     "name": "stdout",
     "output_type": "stream",
     "text": [
      "worker_address_to_port\n",
      "{'tcp://127.0.0.1:41139': 12400, 'tcp://127.0.0.1:37161': 12403, 'tcp://127.0.0.1:35383': 12405}\n",
      "attempt 5\n"
     ]
    },
    {
     "name": "stderr",
     "output_type": "stream",
     "text": [
      "distributed.nanny - WARNING - Restarting worker\n"
     ]
    },
    {
     "name": "stdout",
     "output_type": "stream",
     "text": [
      "worker_address_to_port\n",
      "{'tcp://127.0.0.1:32815': 12400, 'tcp://127.0.0.1:40245': 12405, 'tcp://127.0.0.1:46683': 12406}\n",
      "attempt 6\n",
      "worker_address_to_port\n",
      "{'tcp://127.0.0.1:42911': 12400, 'tcp://127.0.0.1:43497': 12407, 'tcp://127.0.0.1:39533': 12408}\n",
      "attempt 7\n",
      "worker_address_to_port\n",
      "{'tcp://127.0.0.1:34481': 12400, 'tcp://127.0.0.1:40305': 12407, 'tcp://127.0.0.1:35865': 12409}\n",
      "attempt 8\n",
      "worker_address_to_port\n",
      "{'tcp://127.0.0.1:45223': 12400, 'tcp://127.0.0.1:39973': 12407, 'tcp://127.0.0.1:35969': 12410}\n",
      "attempt 9\n",
      "worker_address_to_port\n",
      "{'tcp://127.0.0.1:40975': 12400, 'tcp://127.0.0.1:33181': 12401, 'tcp://127.0.0.1:38393': 12402}\n"
     ]
    }
   ],
   "source": [
    "for i in range(10):\n",
    "    print(f\"attempt {i}\")\n",
    "    client.restart()\n",
    "\n",
    "    num_rows = 1e6\n",
    "    num_features = 1e2\n",
    "    num_partitions = 10\n",
    "    rows_per_chunk = num_rows / num_partitions\n",
    "\n",
    "    data = da.random.random((num_rows, num_features), (rows_per_chunk, num_features))\n",
    "\n",
    "    labels = da.random.random((num_rows, 1), (rows_per_chunk, 1))\n",
    "\n",
    "    data = data.persist()\n",
    "    labels = labels.persist()\n",
    "    _ = wait(data)\n",
    "    _ = wait(labels)\n",
    "\n",
    "    dask_reg = DaskLGBMRegressor(\n",
    "        silent=False,\n",
    "        max_depth=5,\n",
    "        random_state=708,\n",
    "        objective=\"regression_l2\",\n",
    "        learning_rate=0.1,\n",
    "        tree_learner=\"data\",\n",
    "        n_estimators=10,\n",
    "        min_child_samples=1,\n",
    "        n_jobs=-1,\n",
    "        local_listen_port=12400,\n",
    "    )\n",
    "\n",
    "    dask_reg.fit(\n",
    "        client=client,\n",
    "        X=data,\n",
    "        y=labels,\n",
    "    )"
   ]
  },
  {
   "cell_type": "code",
   "execution_count": null,
   "metadata": {},
   "outputs": [],
   "source": [
    "dask_reg.to_local().booster_.trees_to_dataframe()"
   ]
  },
  {
   "cell_type": "code",
   "execution_count": null,
   "metadata": {},
   "outputs": [],
   "source": [
    "cluster.workers"
   ]
  },
  {
   "cell_type": "code",
   "execution_count": null,
   "metadata": {},
   "outputs": [],
   "source": [
    "lines = open(\"/proc/net/tcp\").readlines()\n",
    "for line in lines:\n",
    "    if \"124\" in line:\n",
    "        print(line)"
   ]
  },
  {
   "cell_type": "code",
   "execution_count": null,
   "metadata": {},
   "outputs": [],
   "source": [
    "import socket\n",
    "\n",
    "location = (\"127.0.0.1\", 12402)\n",
    "a_socket = socket.socket(\n",
    "    socket.AF_INET,\n",
    "    socket.SOCK_STREAM\n",
    ")\n",
    "result_of_check = a_socket.connect_ex(location)\n",
    "print(result_of_check)\n",
    "a_socket.close()"
   ]
  },
  {
   "cell_type": "code",
   "execution_count": null,
   "metadata": {},
   "outputs": [],
   "source": [
    "s = socket.socket(socket.AF_INET, socket.SOCK_STREAM)\n",
    "ip = \"127.0.0.1\"\n",
    "port = 12400\n",
    "s.connect((ip, int(port)))\n",
    "s.shutdown(2)"
   ]
  },
  {
   "cell_type": "code",
   "execution_count": null,
   "metadata": {},
   "outputs": [],
   "source": [
    "import socket\n",
    "import time\n",
    "\n",
    "HOST = '127.0.0.1'\n",
    "PORT = 12402\n",
    "\n",
    "with socket.socket(socket.AF_INET, socket.SOCK_STREAM) as s:\n",
    "    s.bind((HOST, PORT))\n",
    "    s.listen()\n",
    "    conn, addr = s.accept()\n",
    "    with conn:\n",
    "        print('Connected by', addr)\n",
    "        while True:\n",
    "            data = conn.recv(1024)\n",
    "            if not data:\n",
    "                break\n",
    "            conn.sendall(data)\n",
    "    time.sleep(25)"
   ]
  },
  {
   "cell_type": "code",
   "execution_count": null,
   "metadata": {},
   "outputs": [],
   "source": [
    "import socket\n",
    "import time\n",
    "\n",
    "HOST = '127.0.0.1'\n",
    "PORT = 12402\n",
    "\n",
    "with socket.socket(socket.AF_INET, socket.SOCK_STREAM) as s:\n",
    "    s.connect((HOST, PORT))"
   ]
  },
  {
   "cell_type": "markdown",
   "metadata": {},
   "source": [
    "## References\n",
    "\n",
    "* https://realpython.com/python-sockets/\n",
    "* http://www.serverframework.com/asynchronousevents/2011/01/time-wait-and-its-design-implications-for-protocols-and-scalable-servers.html"
   ]
  },
  {
   "cell_type": "code",
   "execution_count": null,
   "metadata": {},
   "outputs": [],
   "source": []
  }
 ],
 "metadata": {
  "kernelspec": {
   "display_name": "Python 3",
   "language": "python",
   "name": "python3"
  },
  "language_info": {
   "codemirror_mode": {
    "name": "ipython",
    "version": 3
   },
   "file_extension": ".py",
   "mimetype": "text/x-python",
   "name": "python",
   "nbconvert_exporter": "python",
   "pygments_lexer": "ipython3",
   "version": "3.8.5"
  }
 },
 "nbformat": 4,
 "nbformat_minor": 4
}
