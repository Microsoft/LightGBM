{
 "cells": [
  {
   "cell_type": "code",
   "execution_count": 1,
   "metadata": {
    "collapsed": true
   },
   "outputs": [],
   "source": [
    "# coding: utf-8\n",
    "\n",
    "import os\n",
    "import numpy as np\n",
    "import pandas as pd\n",
    "from sklearn.datasets import dump_svmlight_file\n"
   ]
  },
  {
   "cell_type": "markdown",
   "metadata": {},
   "source": [
    "## step 0: back up data"
   ]
  },
  {
   "cell_type": "code",
   "execution_count": 2,
   "metadata": {
    "collapsed": false
   },
   "outputs": [],
   "source": [
    "if not os.path.isdir('tmp'): os.mkdir('tmp')\n",
    "os.system('cp regression.train tmp/')\n",
    "os.system('cp regression.test tmp/')\n",
    "\n",
    "def read_data():\n",
    "\ttrain = pd.read_csv('tmp/regression.train', sep='\\t', header=None)\n",
    "\ttest = pd.read_csv('tmp/regression.test', sep='\\t', header=None)\n",
    "\n",
    "\tytrain, ytest = train[0], test[0]\n",
    "\tXtrain, Xtest = train.drop(0, axis=1), test.drop(0, axis=1)\n",
    "\n",
    "\treturn Xtrain, ytrain, Xtest, ytest\n",
    "\n",
    "def trainAndPredict():\n",
    "\tos.system('../../lightgbm config=train.conf > /dev/null')\n",
    "\tos.system('../../lightgbm config=predict.conf > /dev/null')\n",
    "    # print first 10 lines of output file\n",
    "\tprint pd.read_csv('LightGBM_predict_result.txt', header=None, names=['output'])['output'].head(10)"
   ]
  },
  {
   "cell_type": "markdown",
   "metadata": {},
   "source": [
    "## step 1 : train & predict with example data and configurations"
   ]
  },
  {
   "cell_type": "code",
   "execution_count": 3,
   "metadata": {
    "collapsed": false
   },
   "outputs": [
    {
     "name": "stdout",
     "output_type": "stream",
     "text": [
      "0    0.700685\n",
      "1    0.417371\n",
      "2    0.141863\n",
      "3    0.501358\n",
      "4    0.229417\n",
      "5    0.181165\n",
      "6    0.266972\n",
      "7    0.311503\n",
      "8    0.781225\n",
      "9    0.412591\n",
      "Name: output, dtype: float64\n"
     ]
    }
   ],
   "source": [
    "trainAndPredict()"
   ]
  },
  {
   "cell_type": "markdown",
   "metadata": {},
   "source": [
    "## step 2 : transform data into svmlight format and train & predict"
   ]
  },
  {
   "cell_type": "code",
   "execution_count": 4,
   "metadata": {
    "collapsed": false
   },
   "outputs": [
    {
     "name": "stdout",
     "output_type": "stream",
     "text": [
      "0    0.716717\n",
      "1    0.435631\n",
      "2    0.153838\n",
      "3    0.489473\n",
      "4    0.167634\n",
      "5    0.140674\n",
      "6    0.306171\n",
      "7    0.368907\n",
      "8    0.785962\n",
      "9    0.436042\n",
      "Name: output, dtype: float64\n"
     ]
    }
   ],
   "source": [
    "Xtrain, ytrain, Xtest, ytest = read_data()\n",
    "\n",
    "dump_svmlight_file(Xtrain, ytrain, 'regression.train')\n",
    "dump_svmlight_file(Xtest, ytest, 'regression.test')\n",
    "\n",
    "trainAndPredict()"
   ]
  },
  {
   "cell_type": "markdown",
   "metadata": {},
   "source": [
    "## step 3 : use a different way to transform into svmlight format\n",
    "\n",
    "- first line of regression.train is transformed from 1\t0.869\t-0.635\t0.226\t0.327\t-0.690\t0.754 ... into 1\t0:0.869\t1:-0.635\t2:0.226\t3:0.327\t4:-0.690\t5:0.754 ...\n",
    "\n",
    "- remove the terms which value = 0 and save as tsv "
   ]
  },
  {
   "cell_type": "code",
   "execution_count": 5,
   "metadata": {
    "collapsed": false
   },
   "outputs": [
    {
     "name": "stdout",
     "output_type": "stream",
     "text": [
      "0    0.716717\n",
      "1    0.435631\n",
      "2    0.153838\n",
      "3    0.489473\n",
      "4    0.167634\n",
      "5    0.140674\n",
      "6    0.306171\n",
      "7    0.368907\n",
      "8    0.785962\n",
      "9    0.436042\n",
      "Name: output, dtype: float64\n"
     ]
    }
   ],
   "source": [
    "Xtrain, ytrain, Xtest, ytest = read_data()\n",
    "\n",
    "for i in range(1, 29):\n",
    "\tXtrain[i] = Xtrain[i].map(lambda x: str(i)+':'+str(x) if x else '')\n",
    "\tXtest[i] = Xtest[i].map(lambda x: str(i)+':'+str(x) if x else '')\n",
    "\n",
    "pd.concat([ytrain, Xtrain], axis=1).to_csv('regression.train', sep='\\t', index=False, header=False)\n",
    "pd.concat([ytest, Xtest], axis=1).to_csv('regression.test', sep='\\t', index=False, header=False)\n",
    "\n",
    "trainAndPredict()"
   ]
  },
  {
   "cell_type": "markdown",
   "metadata": {},
   "source": [
    "## step 4: similar to step 3, but keep 0-terms while transform "
   ]
  },
  {
   "cell_type": "code",
   "execution_count": 6,
   "metadata": {
    "collapsed": false,
    "scrolled": false
   },
   "outputs": [
    {
     "name": "stdout",
     "output_type": "stream",
     "text": [
      "0    0.700684\n",
      "1    0.417376\n",
      "2    0.141863\n",
      "3    0.501357\n",
      "4    0.229417\n",
      "5    0.181165\n",
      "6    0.266972\n",
      "7    0.311502\n",
      "8    0.781224\n",
      "9    0.412590\n",
      "Name: output, dtype: float64\n"
     ]
    }
   ],
   "source": [
    "Xtrain, ytrain, Xtest, ytest = read_data()\n",
    "\n",
    "for i in range(1, 29):\n",
    "\tXtrain[i] = Xtrain[i].map(lambda x: str(i)+':'+str(x))\n",
    "\tXtest[i] = Xtest[i].map(lambda x: str(i)+':'+str(x))\n",
    "\n",
    "pd.concat([ytrain, Xtrain], axis=1).to_csv('regression.train', sep='\\t', index=False, header=False)\n",
    "pd.concat([ytest, Xtest], axis=1).to_csv('regression.test', sep='\\t', index=False, header=False)\n",
    "\n",
    "trainAndPredict()"
   ]
  },
  {
   "cell_type": "markdown",
   "metadata": {},
   "source": [
    "## final step: clean up"
   ]
  },
  {
   "cell_type": "code",
   "execution_count": 7,
   "metadata": {
    "collapsed": false,
    "scrolled": false
   },
   "outputs": [
    {
     "data": {
      "text/plain": [
       "0"
      ]
     },
     "execution_count": 7,
     "metadata": {},
     "output_type": "execute_result"
    }
   ],
   "source": [
    "os.system('cp tmp/regression.train .')\n",
    "os.system('cp tmp/regression.test .')\n",
    "os.system('rm -rf tmp')"
   ]
  }
 ],
 "metadata": {
  "kernelspec": {
   "display_name": "Python 2",
   "language": "python",
   "name": "python2"
  },
  "language_info": {
   "codemirror_mode": {
    "name": "ipython",
    "version": 2
   },
   "file_extension": ".py",
   "mimetype": "text/x-python",
   "name": "python",
   "nbconvert_exporter": "python",
   "pygments_lexer": "ipython2",
   "version": "2.7.12"
  }
 },
 "nbformat": 4,
 "nbformat_minor": 1
}
