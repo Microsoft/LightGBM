{
 "cells": [
  {
   "cell_type": "code",
   "execution_count": null,
   "metadata": {},
   "outputs": [],
   "source": [
    "import dask.array as da\n",
    "import lightgbm as lgb\n",
    "import numpy as np\n",
    "from dask import delayed\n",
    "from sklearn.datasets import load_svmlight_file\n",
    "from distributed import Client, LocalCluster, wait"
   ]
  },
  {
   "cell_type": "code",
   "execution_count": null,
   "metadata": {},
   "outputs": [],
   "source": [
    "X, y = load_svmlight_file(\"../lambdarank/rank.train\")\n",
    "group = np.loadtxt(\"../lambdarank/rank.train.query\")\n",
    "\n",
    "cluster = LocalCluster(n_workers=2)\n",
    "client = Client(cluster)"
   ]
  },
  {
   "cell_type": "code",
   "execution_count": null,
   "metadata": {},
   "outputs": [],
   "source": [
    "# split training data into two partitions\n",
    "rows_in_part1 = int(np.sum(group[:100]))\n",
    "num_features = X.shape[1]\n",
    "\n",
    "# make this array dense because we're splitting across\n",
    "# a sparse boundary to partition the data\n",
    "X = X.todense()\n",
    "\n",
    "dX = da.from_array(\n",
    "  x=X,\n",
    "  chunks=[\n",
    "    (rows_in_part1, X.shape[0] - rows_in_part1),\n",
    "    (num_features, )\n",
    "  ]\n",
    ")\n",
    "\n",
    "dy = da.from_array(\n",
    "    x=y,\n",
    "    chunks=[\n",
    "        (rows_in_part1, X.shape[0] - rows_in_part1),\n",
    "    ]\n",
    ")\n",
    "dg = da.from_array(\n",
    "    x=group,\n",
    "    chunks=[\n",
    "        (100, group.size - 100)\n",
    "    ]\n",
    ")"
   ]
  },
  {
   "cell_type": "code",
   "execution_count": null,
   "metadata": {},
   "outputs": [],
   "source": [
    "dask_model = lgb.DaskLGBMRanker()\n",
    "dask_model.fit(dX, dy, group=dg)"
   ]
  },
  {
   "cell_type": "code",
   "execution_count": null,
   "metadata": {},
   "outputs": [],
   "source": [
    "rows_in_part1 = int(np.sum(group[:100]))\n",
    "num_features = X.shape[1]\n",
    "\n",
    "dX = da.concatenate(\n",
    "    [\n",
    "        da.from_array(X[:rows_in_part1]),\n",
    "        da.from_array(X[rows_in_part1:])\n",
    "    ]\n",
    ")\n",
    "dy = da.concatenate(\n",
    "    [\n",
    "        da.from_array(y[:rows_in_part1]),\n",
    "        da.from_array(y[rows_in_part1:])\n",
    "    ]\n",
    ")\n",
    "dg = da.concatenate(\n",
    "    [\n",
    "        da.from_array(group[:100]),\n",
    "        da.from_array(group[100:])\n",
    "    ]\n",
    ")"
   ]
  },
  {
   "cell_type": "code",
   "execution_count": null,
   "metadata": {},
   "outputs": [],
   "source": [
    "def _split_to_parts(data, is_matrix):\n",
    "    parts = data.to_delayed()\n",
    "    if isinstance(parts, np.ndarray):\n",
    "        if is_matrix:\n",
    "            assert parts.shape[1] == 1\n",
    "        else:\n",
    "            assert parts.ndim == 1 or parts.shape[1] == 1\n",
    "        parts = parts.flatten().tolist()\n",
    "    return parts\n",
    "\n",
    "def _concat(seq):\n",
    "    if isinstance(seq[0], np.ndarray):\n",
    "        return np.concatenate(seq, axis=0)\n",
    "    elif isinstance(seq[0], (pd_DataFrame, pd_Series)):\n",
    "        return concat(seq, axis=0)\n",
    "    elif isinstance(seq[0], ss.spmatrix):\n",
    "        return ss.vstack(seq, format='csr')\n",
    "    else:\n",
    "        raise TypeError('Data must be one of: numpy arrays, pandas dataframes, sparse matrices (from scipy). Got %s.' % str(type(seq[0])))"
   ]
  },
  {
   "cell_type": "code",
   "execution_count": null,
   "metadata": {},
   "outputs": [],
   "source": [
    "# Split arrays/dataframes into parts. Arrange parts into dicts to enforce co-locality\n",
    "data_parts = _split_to_parts(data=dX, is_matrix=True)\n",
    "label_parts = _split_to_parts(data=dy, is_matrix=False)\n",
    "\n",
    "parts = [{'data': x, 'label': y} for (x, y) in zip(data_parts, label_parts)]\n",
    "n_parts = len(parts)\n",
    "\n",
    "group_parts = _split_to_parts(data=dg, is_matrix=False)\n",
    "for i in range(n_parts):\n",
    "    parts[i]['group'] = group_parts[i]\n",
    "\n",
    "# Start computation in the background\n",
    "parts = list(map(delayed, parts))\n",
    "parts = client.compute(parts)\n",
    "wait(parts)"
   ]
  },
  {
   "cell_type": "code",
   "execution_count": null,
   "metadata": {},
   "outputs": [],
   "source": [
    "from collections import defaultdict\n",
    "\n",
    "key_to_part_dict = {part.key: part for part in parts}  # type: ignore\n",
    "who_has = client.who_has(parts)\n",
    "worker_map = defaultdict(list)\n",
    "for key, workers in who_has.items():\n",
    "    worker_map[next(iter(workers))].append(key_to_part_dict[key])"
   ]
  },
  {
   "cell_type": "code",
   "execution_count": null,
   "metadata": {},
   "outputs": [],
   "source": [
    "[x['data'] for x in parts]"
   ]
  },
  {
   "cell_type": "code",
   "execution_count": null,
   "metadata": {},
   "outputs": [],
   "source": [
    "# def _group_chunk(group, start, end):\n",
    "#     return(group[start:end])\n",
    "\n",
    "# group_chunks = [\n",
    "#     delayed(_group_chunk)(group, 0, 100),\n",
    "#     delayed(_group_chunk)(group, 100, group.size)\n",
    "# ]\n",
    "\n",
    "dg = da.from_delayed(group_chunks)"
   ]
  },
  {
   "cell_type": "code",
   "execution_count": null,
   "metadata": {},
   "outputs": [],
   "source": [
    "group.size"
   ]
  },
  {
   "cell_type": "code",
   "execution_count": null,
   "metadata": {},
   "outputs": [],
   "source": [
    "# # split training data into two partitions\n",
    "# rows_in_part1 = int(np.sum(group[:100]))\n",
    "# num_features = X.shape[1]\n",
    "\n",
    "# dX = da.from_array(\n",
    "#   x=X,\n",
    "#   chunks=[\n",
    "#     (rows_in_part1, num_features),\n",
    "#     (X.shape[0] - rows_in_part1, num_features)\n",
    "#   ]\n",
    "# )\n",
    "\n",
    "# dy = da.from_array(y)\n",
    "# dg = da.from_array(group)\n",
    "\n",
    "dask_model = lgb.DaskLGBMRanker()\n",
    "dask_model.fit(dX, dy, group=dg)"
   ]
  },
  {
   "cell_type": "code",
   "execution_count": null,
   "metadata": {},
   "outputs": [],
   "source": []
  },
  {
   "cell_type": "code",
   "execution_count": null,
   "metadata": {},
   "outputs": [],
   "source": []
  }
 ],
 "metadata": {
  "kernelspec": {
   "display_name": "Python 3",
   "language": "python",
   "name": "python3"
  },
  "language_info": {
   "codemirror_mode": {
    "name": "ipython",
    "version": 3
   },
   "file_extension": ".py",
   "mimetype": "text/x-python",
   "name": "python",
   "nbconvert_exporter": "python",
   "pygments_lexer": "ipython3",
   "version": "3.7.6"
  }
 },
 "nbformat": 4,
 "nbformat_minor": 4
}
